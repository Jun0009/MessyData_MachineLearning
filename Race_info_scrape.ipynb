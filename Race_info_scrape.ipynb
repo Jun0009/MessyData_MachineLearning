{
 "cells": [
  {
   "cell_type": "code",
   "execution_count": null,
   "id": "264d439b",
   "metadata": {},
   "outputs": [],
   "source": [
    "pip install fastf1"
   ]
  },
  {
   "cell_type": "code",
   "execution_count": 1,
   "id": "f21f49ea",
   "metadata": {},
   "outputs": [],
   "source": [
    "import fastf1 as ff1\n",
    "from fastf1 import plotting\n",
    "import numpy as np\n",
    "import pandas as pd\n",
    "import itertools\n",
    "from itertools import product\n"
   ]
  },
  {
   "cell_type": "code",
   "execution_count": 3,
   "id": "ce49bd79",
   "metadata": {},
   "outputs": [
    {
     "name": "stderr",
     "output_type": "stream",
     "text": [
      "/Users/tianyangzhou/opt/anaconda3/lib/python3.9/site-packages/fastf1/core.py:1095: FutureWarning: `Session.load_laps` is deprecated and will beremoved in a future version.\n",
      "Use `Session.load` instead.\n",
      "  warnings.warn(\"`Session.load_laps` is deprecated and will be\"\n",
      "core           INFO \tLoading data for Styrian Grand Prix - Race [v2.2.4]\n",
      "api            INFO \tFetching driver list...\n",
      "api            INFO \tFetching timing data...\n",
      "api            INFO \tParsing timing data...\n",
      "api            INFO \tFetching timing app data...\n",
      "core           INFO \tProcessing timing data...\n",
      "api            INFO \tFetching session status data...\n",
      "api            INFO \tFetching track status data...\n",
      "api            INFO \tFetching car data...\n",
      "api            INFO \tParsing car data...\n",
      "api            INFO \tFetching position data...\n",
      "api            INFO \tParsing position data...\n",
      "api         WARNING \tDriver 241: Position data is incomplete!\n",
      "api         WARNING \tDriver 242: Position data is incomplete!\n",
      "api         WARNING \tDriver 243: Position data is incomplete!\n",
      "api            INFO \tFetching weather data...\n",
      "core           INFO \tFinished loading data for 1 drivers: ['55']\n"
     ]
    }
   ],
   "source": [
    "    race = ff1.get_session(2020, 2, 'R')\n",
    "    laps = race.load_laps(with_telemetry=True)\n",
    "\n"
   ]
  },
  {
   "cell_type": "code",
   "execution_count": 10,
   "id": "9aa0680d",
   "metadata": {},
   "outputs": [],
   "source": [
    "plotting.setup_mpl()\n",
    "#ff1.Cache.enable_cache('')\n",
    "# not important warnings & not relevant\n",
    "pd.options.mode.chained_assignment = None "
   ]
  },
  {
   "cell_type": "code",
   "execution_count": 11,
   "id": "cd865b56",
   "metadata": {},
   "outputs": [],
   "source": [
    "def race(year, race_num):\n",
    "    \"\"\"\n",
    "    This function fetches race information and \n",
    "    the performance of drivers of that race\n",
    "    \"\"\"\n",
    "    summarized_distance_total_year = pd.DataFrame()\n",
    "    lap_info_total_year= pd.DataFrame()\n",
    "    race_info_total_year= pd.DataFrame()\n",
    "    \n",
    "    # Load the session data\n",
    "    race = ff1.get_session(year, race_num, 'R')\n",
    "    # Get the laps\n",
    "    laps = race.load_laps(with_telemetry=True)\n",
    "\n",
    "    #Get race info\n",
    "    race_info= pd.DataFrame()\n",
    "    race_info=race_info.append(race.results)\n",
    "    race_info['Race'] = race_num\n",
    "    race_info['year'] = year\n",
    "\n",
    "    \n",
    "    #Get lap info\n",
    "    lap_info= pd.DataFrame()\n",
    "    lap_info=race_info.append(laps)\n",
    "    lap_info['Race'] = race_num\n",
    "    lap_info['year'] = year\n",
    "\n",
    "    \n",
    "    race_info_total_year= race_info_total_year.append(race_info)\n",
    "    lap_info_total_year= lap_info_total_year.append(lap_info)\n",
    "\n",
    "    #Get driver list/pairs\n",
    "    driver_list = laps['DriverNumber'].unique().tolist()\n",
    "  \n",
    "    \n",
    "    #loop\n",
    "    summarized_distance_total = pd.DataFrame()\n",
    "    for pairs in itertools.product(driver_list, driver_list): # Get laps of the drivers\n",
    "        # Get laps of the drivers (formerd and latterd)\n",
    "        f=pairs[0]\n",
    "        l=pairs[1]\n",
    "        f_str=\"% s\" % f\n",
    "        l_str=\"% s\" % l\n",
    "        laps_former = laps.pick_driver(f)\n",
    "        laps_latter = laps.pick_driver(l)\n",
    "    #Since the race started in lap 2 because lap 1 was the warm up lap, we subtract 1.\n",
    "\n",
    "        laps_former['RaceLapNumber'] = laps_former['LapNumber'] - 1\n",
    "        laps_latter['RaceLapNumber'] = laps_latter['LapNumber'] - 1\n",
    "\n",
    "        full_distance = pd.DataFrame()\n",
    "        summarized_distance = pd.DataFrame()\n",
    "        \n",
    "\n",
    "    #Next, what we need to do is loop through all the laps one by one. \n",
    "    #The reason we do this is because if we don’t, the ‘Distance’ variable \n",
    "    #in the telemetry data will range from 0 meters until the entire length \n",
    "    #Since we want to compare lap-by-lap, the telemetry data needs to be requested again and again \n",
    "    #to reset the distance variable to 0.\n",
    "        for lap in laps_latter.iterlaps():\n",
    "            try:\n",
    "                telemetry = lap[1].get_car_data().add_distance().add_driver_ahead()\n",
    "\n",
    "            # Only run this loop when driver ahead is former\n",
    "                telemetry = telemetry.loc[telemetry['DriverAhead'] == f_str]\n",
    "\n",
    "                if len(telemetry) != 0:\n",
    "                # Full distance\n",
    "                    lap_telemetry = telemetry[['Distance', 'DistanceToDriverAhead']]\n",
    "                    lap_telemetry.loc[:, 'Lap'] = lap[0] + 1\n",
    "\n",
    "                    full_distance = full_distance.append(lap_telemetry)\n",
    "\n",
    "                # Average distance\n",
    "                    distance_mean = np.nanmean(telemetry['DistanceToDriverAhead'])\n",
    "\n",
    "\n",
    "                #laps difference between a pair\n",
    "                    summarized_distance = summarized_distance.append({\n",
    "                        'Lap': lap[0] + 1,\n",
    "                        'total_lap': len(laps_latter),\n",
    "                        'position': int(race.results.loc[race.results.loc[:,'DriverNumber']==l_str,\"Position\"]), \n",
    "                        'Mean': distance_mean,\n",
    "                        'Former': f,\n",
    "                        'Latter': l, \n",
    "                        'race_num':race_num,\n",
    "                        'year':year,\n",
    "                    }, ignore_index = True)\n",
    "            except:\n",
    "                pass\n",
    "        summarized_distance_total = summarized_distance_total.append(summarized_distance)        \n",
    "      \n",
    "    summarized_distance_total_year=summarized_distance_total_year.append(summarized_distance_total)\n",
    "   \n",
    "    return  summarized_distance_total_year,lap_info_total_year,race_info_total_year\n",
    "\n",
    "\n",
    "    "
   ]
  },
  {
   "cell_type": "code",
   "execution_count": 12,
   "id": "72a62ac6",
   "metadata": {},
   "outputs": [
    {
     "name": "stderr",
     "output_type": "stream",
     "text": [
      "/Users/tianyangzhou/opt/anaconda3/lib/python3.9/site-packages/fastf1/core.py:1095: FutureWarning: `Session.load_laps` is deprecated and will beremoved in a future version.\n",
      "Use `Session.load` instead.\n",
      "  warnings.warn(\"`Session.load_laps` is deprecated and will be\"\n",
      "core           INFO \tLoading data for United States Grand Prix - Race [v2.2.4]\n",
      "api            INFO \tFetching driver list...\n",
      "api            INFO \tFetching timing data...\n",
      "api            INFO \tParsing timing data...\n",
      "api            INFO \tFetching timing app data...\n",
      "core           INFO \tProcessing timing data...\n",
      "api            INFO \tFetching session status data...\n",
      "api            INFO \tFetching track status data...\n",
      "api            INFO \tFetching car data...\n",
      "api            INFO \tParsing car data...\n"
     ]
    },
    {
     "name": "stdout",
     "output_type": "stream",
     "text": [
      "Something went wrong for racei\n"
     ]
    },
    {
     "ename": "FileNotFoundError",
     "evalue": "[Errno 2] No such file or directory: 'C:/Users/tz2156/Downloads/2021distance17_22csv'",
     "output_type": "error",
     "traceback": [
      "\u001b[0;31m---------------------------------------------------------------------------\u001b[0m",
      "\u001b[0;31mFileNotFoundError\u001b[0m                         Traceback (most recent call last)",
      "\u001b[0;32m/var/folders/89/c3_bbzts3kd4xpr23y62t7l80000gn/T/ipykernel_77362/2341046104.py\u001b[0m in \u001b[0;36m<module>\u001b[0;34m\u001b[0m\n\u001b[1;32m     13\u001b[0m         \u001b[0mprint\u001b[0m\u001b[0;34m(\u001b[0m\u001b[0;34m\"Something went wrong for race\"\u001b[0m\u001b[0;34m+\u001b[0m\u001b[0;34m\"i\"\u001b[0m\u001b[0;34m)\u001b[0m\u001b[0;34m\u001b[0m\u001b[0;34m\u001b[0m\u001b[0m\n\u001b[1;32m     14\u001b[0m \u001b[0;34m\u001b[0m\u001b[0m\n\u001b[0;32m---> 15\u001b[0;31m \u001b[0msummarized_distance\u001b[0m \u001b[0;34m.\u001b[0m\u001b[0mto_csv\u001b[0m\u001b[0;34m(\u001b[0m\u001b[0;34mr\"C:/Users/tz2156/Downloads/2021distance17_22csv\"\u001b[0m\u001b[0;34m,\u001b[0m \u001b[0mindex\u001b[0m\u001b[0;34m=\u001b[0m\u001b[0;32mFalse\u001b[0m\u001b[0;34m)\u001b[0m\u001b[0;34m\u001b[0m\u001b[0;34m\u001b[0m\u001b[0m\n\u001b[0m\u001b[1;32m     16\u001b[0m \u001b[0msummarized_lap_info\u001b[0m\u001b[0;34m.\u001b[0m\u001b[0mto_csv\u001b[0m\u001b[0;34m(\u001b[0m\u001b[0;34mr\"C:/Users/tz2156/Downloads/2021lap17_22.csv\"\u001b[0m\u001b[0;34m,\u001b[0m \u001b[0mindex\u001b[0m\u001b[0;34m=\u001b[0m\u001b[0;32mFalse\u001b[0m\u001b[0;34m)\u001b[0m\u001b[0;34m\u001b[0m\u001b[0;34m\u001b[0m\u001b[0m\n\u001b[1;32m     17\u001b[0m \u001b[0msummarized_race_info\u001b[0m\u001b[0;34m.\u001b[0m\u001b[0mto_csv\u001b[0m\u001b[0;34m(\u001b[0m\u001b[0;34mr\"C:/Users/tz2156/Downloads/2021race17_22.csv\"\u001b[0m\u001b[0;34m,\u001b[0m \u001b[0mindex\u001b[0m\u001b[0;34m=\u001b[0m\u001b[0;32mFalse\u001b[0m\u001b[0;34m)\u001b[0m\u001b[0;34m\u001b[0m\u001b[0;34m\u001b[0m\u001b[0m\n",
      "\u001b[0;32m~/opt/anaconda3/lib/python3.9/site-packages/pandas/core/generic.py\u001b[0m in \u001b[0;36mto_csv\u001b[0;34m(self, path_or_buf, sep, na_rep, float_format, columns, header, index, index_label, mode, encoding, compression, quoting, quotechar, line_terminator, chunksize, date_format, doublequote, escapechar, decimal, errors, storage_options)\u001b[0m\n\u001b[1;32m   3464\u001b[0m         )\n\u001b[1;32m   3465\u001b[0m \u001b[0;34m\u001b[0m\u001b[0m\n\u001b[0;32m-> 3466\u001b[0;31m         return DataFrameRenderer(formatter).to_csv(\n\u001b[0m\u001b[1;32m   3467\u001b[0m             \u001b[0mpath_or_buf\u001b[0m\u001b[0;34m,\u001b[0m\u001b[0;34m\u001b[0m\u001b[0;34m\u001b[0m\u001b[0m\n\u001b[1;32m   3468\u001b[0m             \u001b[0mline_terminator\u001b[0m\u001b[0;34m=\u001b[0m\u001b[0mline_terminator\u001b[0m\u001b[0;34m,\u001b[0m\u001b[0;34m\u001b[0m\u001b[0;34m\u001b[0m\u001b[0m\n",
      "\u001b[0;32m~/opt/anaconda3/lib/python3.9/site-packages/pandas/io/formats/format.py\u001b[0m in \u001b[0;36mto_csv\u001b[0;34m(self, path_or_buf, encoding, sep, columns, index_label, mode, compression, quoting, quotechar, line_terminator, chunksize, date_format, doublequote, escapechar, errors, storage_options)\u001b[0m\n\u001b[1;32m   1103\u001b[0m             \u001b[0mformatter\u001b[0m\u001b[0;34m=\u001b[0m\u001b[0mself\u001b[0m\u001b[0;34m.\u001b[0m\u001b[0mfmt\u001b[0m\u001b[0;34m,\u001b[0m\u001b[0;34m\u001b[0m\u001b[0;34m\u001b[0m\u001b[0m\n\u001b[1;32m   1104\u001b[0m         )\n\u001b[0;32m-> 1105\u001b[0;31m         \u001b[0mcsv_formatter\u001b[0m\u001b[0;34m.\u001b[0m\u001b[0msave\u001b[0m\u001b[0;34m(\u001b[0m\u001b[0;34m)\u001b[0m\u001b[0;34m\u001b[0m\u001b[0;34m\u001b[0m\u001b[0m\n\u001b[0m\u001b[1;32m   1106\u001b[0m \u001b[0;34m\u001b[0m\u001b[0m\n\u001b[1;32m   1107\u001b[0m         \u001b[0;32mif\u001b[0m \u001b[0mcreated_buffer\u001b[0m\u001b[0;34m:\u001b[0m\u001b[0;34m\u001b[0m\u001b[0;34m\u001b[0m\u001b[0m\n",
      "\u001b[0;32m~/opt/anaconda3/lib/python3.9/site-packages/pandas/io/formats/csvs.py\u001b[0m in \u001b[0;36msave\u001b[0;34m(self)\u001b[0m\n\u001b[1;32m    235\u001b[0m         \"\"\"\n\u001b[1;32m    236\u001b[0m         \u001b[0;31m# apply compression and byte/text conversion\u001b[0m\u001b[0;34m\u001b[0m\u001b[0;34m\u001b[0m\u001b[0m\n\u001b[0;32m--> 237\u001b[0;31m         with get_handle(\n\u001b[0m\u001b[1;32m    238\u001b[0m             \u001b[0mself\u001b[0m\u001b[0;34m.\u001b[0m\u001b[0mfilepath_or_buffer\u001b[0m\u001b[0;34m,\u001b[0m\u001b[0;34m\u001b[0m\u001b[0;34m\u001b[0m\u001b[0m\n\u001b[1;32m    239\u001b[0m             \u001b[0mself\u001b[0m\u001b[0;34m.\u001b[0m\u001b[0mmode\u001b[0m\u001b[0;34m,\u001b[0m\u001b[0;34m\u001b[0m\u001b[0;34m\u001b[0m\u001b[0m\n",
      "\u001b[0;32m~/opt/anaconda3/lib/python3.9/site-packages/pandas/io/common.py\u001b[0m in \u001b[0;36mget_handle\u001b[0;34m(path_or_buf, mode, encoding, compression, memory_map, is_text, errors, storage_options)\u001b[0m\n\u001b[1;32m    700\u001b[0m         \u001b[0;32mif\u001b[0m \u001b[0mioargs\u001b[0m\u001b[0;34m.\u001b[0m\u001b[0mencoding\u001b[0m \u001b[0;32mand\u001b[0m \u001b[0;34m\"b\"\u001b[0m \u001b[0;32mnot\u001b[0m \u001b[0;32min\u001b[0m \u001b[0mioargs\u001b[0m\u001b[0;34m.\u001b[0m\u001b[0mmode\u001b[0m\u001b[0;34m:\u001b[0m\u001b[0;34m\u001b[0m\u001b[0;34m\u001b[0m\u001b[0m\n\u001b[1;32m    701\u001b[0m             \u001b[0;31m# Encoding\u001b[0m\u001b[0;34m\u001b[0m\u001b[0;34m\u001b[0m\u001b[0m\n\u001b[0;32m--> 702\u001b[0;31m             handle = open(\n\u001b[0m\u001b[1;32m    703\u001b[0m                 \u001b[0mhandle\u001b[0m\u001b[0;34m,\u001b[0m\u001b[0;34m\u001b[0m\u001b[0;34m\u001b[0m\u001b[0m\n\u001b[1;32m    704\u001b[0m                 \u001b[0mioargs\u001b[0m\u001b[0;34m.\u001b[0m\u001b[0mmode\u001b[0m\u001b[0;34m,\u001b[0m\u001b[0;34m\u001b[0m\u001b[0;34m\u001b[0m\u001b[0m\n",
      "\u001b[0;31mFileNotFoundError\u001b[0m: [Errno 2] No such file or directory: 'C:/Users/tz2156/Downloads/2021distance17_22csv'"
     ]
    }
   ],
   "source": [
    "#write for loop to extract datasets for 2021\n",
    "totalraces=list(range(17,18))\n",
    "summarized_distance = pd.DataFrame()\n",
    "summarized_lap_info= pd.DataFrame()\n",
    "summarized_race_info= pd.DataFrame()\n",
    "for i in totalraces:\n",
    "    try:\n",
    "        distance,lapinfo,raceinfo=race(2021, i)\n",
    "        summarized_race_info= summarized_race_info.append(raceinfo)\n",
    "        summarized_lap_info= summarized_lap_info.append(lapinfo)\n",
    "        summarized_distance = summarized_distance.append(distance)\n",
    "    except:\n",
    "        print(\"Something went wrong for race\"+\"i\")\n",
    "\n",
    "summarized_distance .to_csv(r\"C:/Users/tz2156/Downloads/2021distance17_22csv\", index=False)\n",
    "summarized_lap_info.to_csv(r\"C:/Users/tz2156/Downloads/2021lap17_22.csv\", index=False)\n",
    "summarized_race_info.to_csv(r\"C:/Users/tz2156/Downloads/2021race17_22.csv\", index=False)\n",
    "\n"
   ]
  },
  {
   "cell_type": "code",
   "execution_count": 8,
   "id": "b20d9733",
   "metadata": {},
   "outputs": [
    {
     "name": "stderr",
     "output_type": "stream",
     "text": [
      "api         WARNING \t\n",
      "\n",
      "NO CACHE! Api caching has not been enabled! \n",
      "\tIt is highly recommended to enable this feature for much faster data loading!\n",
      "\tUse `fastf1.Cache.enable_cache('path/to/cache/')`\n",
      "\n",
      "/Users/tianyangzhou/opt/anaconda3/lib/python3.9/site-packages/fastf1/core.py:1095: FutureWarning: `Session.load_laps` is deprecated and will beremoved in a future version.\n",
      "Use `Session.load` instead.\n",
      "  warnings.warn(\"`Session.load_laps` is deprecated and will be\"\n",
      "core           INFO \tLoading data for Italian Grand Prix - Race [v2.2.4]\n",
      "api            INFO \tFetching driver list...\n",
      "api            INFO \tFetching timing data...\n",
      "api            INFO \tParsing timing data...\n",
      "api            INFO \tFetching timing app data...\n",
      "core           INFO \tProcessing timing data...\n",
      "api            INFO \tFetching session status data...\n",
      "api            INFO \tFetching track status data...\n",
      "api            INFO \tFetching car data...\n",
      "api            INFO \tParsing car data...\n",
      "api            INFO \tFetching position data...\n",
      "api            INFO \tParsing position data...\n",
      "api         WARNING \tDriver 241: Position data is incomplete!\n",
      "api         WARNING \tDriver 242: Position data is incomplete!\n",
      "api         WARNING \tDriver 243: Position data is incomplete!\n",
      "api            INFO \tFetching weather data...\n",
      "core           INFO \tFinished loading data for 20 drivers: ['3', '4', '77', '16', '11', '55', '18', '14', '63', '31', '6', '5', '99', '88', '47', '9', '44', '33', '10', '22']\n"
     ]
    }
   ],
   "source": [
    "race = ff1.get_session(2021, 14, 'R')\n",
    "laps = race.load_laps(with_telemetry=True)\n"
   ]
  },
  {
   "cell_type": "code",
   "execution_count": null,
   "id": "f07d2e54",
   "metadata": {},
   "outputs": [],
   "source": []
  }
 ],
 "metadata": {
  "kernelspec": {
   "display_name": "Python 3 (ipykernel)",
   "language": "python",
   "name": "python3"
  },
  "language_info": {
   "codemirror_mode": {
    "name": "ipython",
    "version": 3
   },
   "file_extension": ".py",
   "mimetype": "text/x-python",
   "name": "python",
   "nbconvert_exporter": "python",
   "pygments_lexer": "ipython3",
   "version": "3.9.7"
  }
 },
 "nbformat": 4,
 "nbformat_minor": 5
}
